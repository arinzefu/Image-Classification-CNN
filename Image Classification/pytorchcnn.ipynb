{
 "cells": [
  {
   "cell_type": "code",
   "execution_count": 1,
   "metadata": {
    "collapsed": true
   },
   "outputs": [],
   "source": [
    "import os\n",
    "import cv2\n",
    "import imghdr\n",
    "import torch\n",
    "import torch.nn as nn\n",
    "import torch.optim as optim\n",
    "import torchvision.datasets as datasets\n",
    "from torch.utils.data import random_split, DataLoader\n",
    "from torchvision import transforms\n",
    "import torch.nn.functional as F"
   ]
  },
  {
   "cell_type": "code",
   "execution_count": 2,
   "outputs": [
    {
     "name": "stdout",
     "output_type": "stream",
     "text": [
      "['Beyonce', 'JackieChan', 'Messi', 'Rihanna']\n",
      "['00-story-beyonce-5-things.jpg', '01beyonce-item-mobileMasterAt3x.jpg', '0x0.jpg', '1169175.jpg', '1659416561-beyonce-AP.jpg', '200531232831-beyonce-london-2019.jpg', '220613-Beyonce-al-1031-3834b9.jpg', '619e37f3a0209c4d9ec736ae83c8090d--beyonce-hair-color-beyonce-blonde-hair.jpg', '68cd9636bbf57d460cf08a527d396557.jpeg', '960x0.jpg', 'a-birthday-shout-out-from-beyonce-complete-with-a-throwback-photo-1628162387.jpg', 'beyonc-c3-a9-accepts-the-best-dance-electronic-music-album-award-news-photo-1675652889.jpg', 'beyonc-c3-a9-attends-the-atlantis-the-royal-grand-reveal-weekend-news-photo-1674462721.jpg', 'BeyoncC3A9_at_The_Lion_King_European_Premiere_2019.png', 'Beyonce-1200-1.jpg', 'BEYONCE-2.jpg', 'beyonce-2023-billboard-1548.jpg', 'beyonce-and-jay-z-date-night-9003249182869256140851..jpg', 'Beyonce-cr-Courtesy-of-Parkwood-Entertainment-press-2022-billboard-1548.jpg', 'beyonce-fake-albums-on-spotify.jpg', 'beyonce-grammys-1675876501.jpg', 'Beyonce-Grammys-2023.jpg', 'beyonce-ivy-park.jpg', 'beyonce-knowles-los-angeles-ca-august-mtv-video-music-awards-forum-los-angeles-45737663.jpg', 'beyonce-knowles.jpg', 'beyonce-makes-history-with-28th-grammy-win-24.jpg', 'beyonce-might-perform-at-oscars-this-year-05.jpg', 'beyonce-mom-new-big.jpg', 'beyonce-on-the-red-carpet-lion-king.jpg', 'Beyonce-performs-at-a-private-concert-in-Dubai-1062x598.jpg', 'Beyonce-press-shot-sq-2.jpg', 'Beyonce-s-incredible-demand-on-Goldmember-set-at-just-19-You-made-me-too-skinny-1646065.jpg', 'beyonce-tour-tickets.jpg', 'beyonce.jpg', 'beyonce.png', 'beyonce2.jpeg', 'BEYONCE2520BOB2520290722252025202520Renaissance_01_SF.gif', 'BEYONCE2520OSCARS2520AFTER2520PARTY25203103222520GettyImages-1388258742a.jpg', 'beyonce3.png', 'beyonce4.jpg', 'BeyonceCC81-E28093-RENAISSANCE-E28093-header.jpg', 'beyonceheader.jpg', 'Beyonce_1660024286.jpg', 'beyonce_concert_a_l.jpg', 'Beyonce_JULY22_RPA_220401_VOGUE_UK_09_014_V10_QC.jpg', 'beyonce_new_album.jpg', 'c891533fedf0564d5350c153d033e6f0.jpg', 'd8db50cc66c54be4ad8b4b97b7cc0378_xl.jpg', 'depositphotos_16721753-stock-photo-beyonce.jpg', 'destinys-child-lead-singer-beyonce-knowles-in-2001-photo-jeffrey-mayer-A31W5R.jpg', 'e190beb570d94a0c8b3eb3c4e2bcadc0_320_320.jpg', 'ET_BEYONCE_0416_horiz-900x506.jpg', 'GettyImages-1154827453.jpg', 'GettyImages-1231722604.jpg', 'gettyimages-1463286085.jpg', 'grammy-2021-looks-062.jpg', 'grammy-2023-beyonce-comp-1.jpg', 'GTY_beyonce_album_ml_131216_16x9_992.jpg', 'hbz-megan-thee-stallion-beyonce-lead-1588190483.jpg', 'image2.jpeg', 'image6.jpeg', 'image7.jpeg', 'images10.jpg', 'images11.jpg', 'images16.jpg', 'images27.jpg', 'images28.jpg', 'images29.jpg', 'images7.jpg', 'istock_000017678524small.jpg', 'maxresdefault.jpg', 'maxresdefault2.jpg', 'nkr8S7Wz-beyonce-roberto-cavalli-dress-lead2-1-1200x675.jpg', 'once-pop-singer-beyonce-posed-almost-nde-on-celestial-holographic-horse-leaving-everyone-shocked-001.jpg', 'Pregnant-Beyonce-Just-Shared-Something-That-Is-Now-InstagramE28099s-Most-Liked-Picture-Ever.jpg', 'rita-ora-jay-z-beyonce.jpg', 'rs_1024x759-170313172440-1024-bey-earrings.jpg', 'Sexy-BeyoncC3A9-Pictures.jpg', 'Sexy-BeyoncC3A9-Pictures2.jpg', 'tmp_QsSlQi_e87bed53fcca5471_GettyImages-1463279885.jpg', 'Untitled-design-5.png', '_102849860_420dd9fd-ed9c-4c75-b1fa-67d276834c01.jpg']\n"
     ]
    }
   ],
   "source": [
    "# Define the Dataset class\n",
    "DataDir = 'image data'\n",
    "ImageEx = ['jpeg', 'jpg', 'bmp', 'png']\n",
    "print(os.listdir(DataDir))\n",
    "print(os.listdir(os.path.join(DataDir, 'Beyonce',)))\n"
   ],
   "metadata": {
    "collapsed": false
   }
  },
  {
   "cell_type": "code",
   "execution_count": 3,
   "outputs": [
    {
     "name": "stdout",
     "output_type": "stream",
     "text": [
      "00-story-beyonce-5-things.jpg\n",
      "01beyonce-item-mobileMasterAt3x.jpg\n",
      "0x0.jpg\n",
      "1169175.jpg\n",
      "1659416561-beyonce-AP.jpg\n",
      "200531232831-beyonce-london-2019.jpg\n",
      "220613-Beyonce-al-1031-3834b9.jpg\n",
      "619e37f3a0209c4d9ec736ae83c8090d--beyonce-hair-color-beyonce-blonde-hair.jpg\n",
      "68cd9636bbf57d460cf08a527d396557.jpeg\n",
      "960x0.jpg\n",
      "a-birthday-shout-out-from-beyonce-complete-with-a-throwback-photo-1628162387.jpg\n",
      "beyonc-c3-a9-accepts-the-best-dance-electronic-music-album-award-news-photo-1675652889.jpg\n",
      "beyonc-c3-a9-attends-the-atlantis-the-royal-grand-reveal-weekend-news-photo-1674462721.jpg\n",
      "BeyoncC3A9_at_The_Lion_King_European_Premiere_2019.png\n",
      "Beyonce-1200-1.jpg\n",
      "BEYONCE-2.jpg\n",
      "beyonce-2023-billboard-1548.jpg\n",
      "beyonce-and-jay-z-date-night-9003249182869256140851..jpg\n",
      "Beyonce-cr-Courtesy-of-Parkwood-Entertainment-press-2022-billboard-1548.jpg\n",
      "beyonce-fake-albums-on-spotify.jpg\n",
      "beyonce-grammys-1675876501.jpg\n",
      "Beyonce-Grammys-2023.jpg\n",
      "beyonce-ivy-park.jpg\n",
      "beyonce-knowles-los-angeles-ca-august-mtv-video-music-awards-forum-los-angeles-45737663.jpg\n",
      "beyonce-knowles.jpg\n",
      "beyonce-makes-history-with-28th-grammy-win-24.jpg\n",
      "beyonce-might-perform-at-oscars-this-year-05.jpg\n",
      "beyonce-mom-new-big.jpg\n",
      "beyonce-on-the-red-carpet-lion-king.jpg\n",
      "Beyonce-performs-at-a-private-concert-in-Dubai-1062x598.jpg\n",
      "Beyonce-press-shot-sq-2.jpg\n",
      "Beyonce-s-incredible-demand-on-Goldmember-set-at-just-19-You-made-me-too-skinny-1646065.jpg\n",
      "beyonce-tour-tickets.jpg\n",
      "beyonce.jpg\n",
      "beyonce.png\n",
      "beyonce2.jpeg\n",
      "BEYONCE2520BOB2520290722252025202520Renaissance_01_SF.gif\n",
      "BEYONCE2520OSCARS2520AFTER2520PARTY25203103222520GettyImages-1388258742a.jpg\n",
      "beyonce3.png\n",
      "beyonce4.jpg\n",
      "BeyonceCC81-E28093-RENAISSANCE-E28093-header.jpg\n",
      "beyonceheader.jpg\n",
      "Beyonce_1660024286.jpg\n",
      "beyonce_concert_a_l.jpg\n",
      "Beyonce_JULY22_RPA_220401_VOGUE_UK_09_014_V10_QC.jpg\n",
      "beyonce_new_album.jpg\n",
      "c891533fedf0564d5350c153d033e6f0.jpg\n",
      "d8db50cc66c54be4ad8b4b97b7cc0378_xl.jpg\n",
      "depositphotos_16721753-stock-photo-beyonce.jpg\n",
      "destinys-child-lead-singer-beyonce-knowles-in-2001-photo-jeffrey-mayer-A31W5R.jpg\n",
      "e190beb570d94a0c8b3eb3c4e2bcadc0_320_320.jpg\n",
      "ET_BEYONCE_0416_horiz-900x506.jpg\n",
      "GettyImages-1154827453.jpg\n",
      "GettyImages-1231722604.jpg\n",
      "gettyimages-1463286085.jpg\n",
      "grammy-2021-looks-062.jpg\n",
      "grammy-2023-beyonce-comp-1.jpg\n",
      "GTY_beyonce_album_ml_131216_16x9_992.jpg\n",
      "hbz-megan-thee-stallion-beyonce-lead-1588190483.jpg\n",
      "image2.jpeg\n",
      "image6.jpeg\n",
      "image7.jpeg\n",
      "images10.jpg\n",
      "images11.jpg\n",
      "images16.jpg\n",
      "images27.jpg\n",
      "images28.jpg\n",
      "images29.jpg\n",
      "images7.jpg\n",
      "istock_000017678524small.jpg\n",
      "maxresdefault.jpg\n",
      "maxresdefault2.jpg\n",
      "nkr8S7Wz-beyonce-roberto-cavalli-dress-lead2-1-1200x675.jpg\n",
      "once-pop-singer-beyonce-posed-almost-nde-on-celestial-holographic-horse-leaving-everyone-shocked-001.jpg\n",
      "Pregnant-Beyonce-Just-Shared-Something-That-Is-Now-InstagramE28099s-Most-Liked-Picture-Ever.jpg\n",
      "rita-ora-jay-z-beyonce.jpg\n",
      "rs_1024x759-170313172440-1024-bey-earrings.jpg\n",
      "Sexy-BeyoncC3A9-Pictures.jpg\n",
      "Sexy-BeyoncC3A9-Pictures2.jpg\n",
      "tmp_QsSlQi_e87bed53fcca5471_GettyImages-1463279885.jpg\n",
      "Untitled-design-5.png\n",
      "_102849860_420dd9fd-ed9c-4c75-b1fa-67d276834c01.jpg\n",
      "0626_celeb100-jackie-chan_1200x675.jpg\n",
      "1d8c033a798e33b6cac5437302915a2f--jackie-chan-kungfu.jpg\n",
      "2d82183f8b.jpg\n",
      "46c2e6a2949c4b6952186fc74993f433--jackie-chan-greatest-movies.jpg\n",
      "4fa08830a6531f1b21059effc63e9180--jackie-chan.jpg\n",
      "5267dfc16bb3f78b25452735.jpeg\n",
      "61uuiHP6VvL.jpg\n",
      "657633160.jpg\n",
      "77171b09184c1f5e29b2732411fbfbc1.jpg\n",
      "7f43912c2752b0603557e1d4f3f5b9fb.jpg\n",
      "87ec25f8ec1ffe5773de0fe62ac550b4.jpg\n",
      "9k323u48_5-action-heroes-_625x300_16_December_20.jpg\n",
      "aa72aff5079188d3cd0eb2e2d34919da.jpeg\n",
      "b083fe9562de19f0fe1705.jpg\n",
      "c4f4b29e-f9d9-11e8-93b8-bdc844c69537_image_hires_200346.JPG\n",
      "chan.jpg\n",
      "d463d4785830a06f990963a55aa1da4b--kung-fu-movies-jackie-chan.jpg\n",
      "ew-autobiography-jackie-chan-never-grew-up-just-older-in-beijing-chin-W8G0K0.jpg\n",
      "f6fc76836078200ff0d2b50bb50a69ec.jpg\n",
      "GettyImages-1238146258-scaled-e1658260652860.jpg\n",
      "gettyimages-858141924-cd915e6c1a5d86d32dc2d3a13e02bd2344380fb0-s1100-c50.jpg\n",
      "gettyimages-858141924_wide-aaa609cedc607c4cecbbc9f56791b9fe52ec712a-s1400-c100.jpg\n",
      "GVcBuwNwiU2ESEBbEXHQkb-1200-80.jpg\n",
      "he-had-a-difficult-gestation-and-infancy.jpg\n",
      "image-w856.jpg\n",
      "image13.jpeg\n",
      "image14.jpeg\n",
      "image16.jpeg\n",
      "image22.jpeg\n",
      "images13.jpg\n",
      "images20.jpg\n",
      "images22.jpg\n",
      "images4.jpg\n",
      "images5.jpg\n",
      "images7.jpg\n",
      "images8.jpg\n",
      "index.jpeg\n",
      "intro-1626112820.jpg\n",
      "Jackie-Chan-006.jpg\n",
      "Jackie-Chan-01.jpg\n",
      "Jackie-Chan-02.jpg\n",
      "Jackie-Chan-1017-GQ-FEJC01-02.jpg\n",
      "jackie-chan-1647450574796.jpg\n",
      "jackie-chan-addresses-concerns-quarantined-coronavirus.jpg\n",
      "jackie-chan-admits-to-cheating-on-wife.jpg\n",
      "jackie-chan-attends-commercial-event-in-hangzhou.jpg\n",
      "jackie-chan-blk-740.jpg\n",
      "jackie-chan-exfeatures_9119997m.jpg\n",
      "Jackie-Chan-Instagram-Jackiechan.jpg\n",
      "jackie-chan-medical.jpg\n",
      "jackie-chan-news-photo-83389121-1567001252.jpg\n",
      "jackie-chan-oscars-2017-04.jpg\n",
      "jackie-chan.jpg\n",
      "jackie-chan2.jpg\n",
      "Jackie20Chan202.jpg\n",
      "jackiechan1-2x.jpg\n",
      "Jackie_Chan.png\n",
      "Jackie_Chan_28758807989229.jpg\n",
      "Jackie_Chan_July_2016.jpg\n",
      "jackie_chan_punch.jpg\n",
      "JC.jpeg\n",
      "kiyoshiota-gettyimages-129941726-762914bed634d672c4f298002e897248.jpg\n",
      "l-intro-1636670401.jpg\n",
      "maxresdefault2.jpg\n",
      "MV5BMTk4MDM0MDUzM15BMl5BanBnXkFtZTcwOTI4MzU1Mw@@._V1_.jpg\n",
      "ziyi-zhang-jackie-chan-shanghai-film-festival-09.jpg\n",
      "01ge28mmqrz2jbrz4wjx.jpg\n",
      "0x0.jpg\n",
      "1442809583.jpeg\n",
      "16089739703736.jpg\n",
      "16225868909277.jpg\n",
      "1628186497_lionel-messi-1200x800.jpg\n",
      "1ce25beef1cd157871c03354467c1173.jpg\n",
      "1_WCup-Poland-Argentina-Soccer-Doha-Qatar-30-Nov-2022.jpg\n",
      "20221218_224655-scaled.jpg\n",
      "20222F112FMessiTop.png\n",
      "210805-lionel-messi-barcelona-mn-1415.jpg\n",
      "221127164140-lionel-messi-inter-miami-rumors-spt-intl.jpg\n",
      "247181.jpg\n",
      "28003-1671435885.jpg\n",
      "3191624-65387748-2560-1440.jpg\n",
      "33af94e0257f7196a0fd59827c4f0f136b98fa02.jpg\n",
      "3460804-70601248-2560-1440.jpg\n",
      "4438900.jpg\n",
      "54705687_303.jpg\n",
      "58798082_1006.jpg\n",
      "60dae81236cf170019de86ce.jpeg\n",
      "7963b6g_lionel-messi-afp_625x300_21_February_23.jpg\n",
      "929477-19769332-2560-1440.jpg\n",
      "95803.jpg\n",
      "AP01-12-2023-000007B-0_1673524609873_1673524609873_1673524634413_1673524634413.jpg\n",
      "bbb7be7246204de4bbf68c19be8e54dd.jpg\n",
      "doggcj17sbltfaoa_1616395307.jpeg\n",
      "ExM-xx0UYAEdCwc.jpg\n",
      "f1593cb6-3141-45e6-b050-1943cd50048a_alta-libre-aspect-ratio_default_0.jpg\n",
      "fbl-fra-ligue1-montpellier-psg-scaled.jpg\n",
      "gettyimages-1076249930.jpg\n",
      "GettyImages-1240183055.jpg\n",
      "gettyimages-972635442-612x612.jpg\n",
      "gxmckr1nk2r00wpz_1620817003.jpeg\n",
      "hba-featured-dimensions-1.png\n",
      "hqdefault.jpg\n",
      "images105.jpg\n",
      "images108.jpg\n",
      "images111.jpg\n",
      "images112.jpg\n",
      "images115.jpg\n",
      "images133.jpg\n",
      "images136.jpg\n",
      "images28.jpg\n",
      "images34.jpg\n",
      "images39.jpg\n",
      "images44.jpg\n",
      "images47.jpg\n",
      "images56.jpg\n",
      "images6.jpg\n",
      "images64.jpg\n",
      "images67.jpg\n",
      "images68.jpg\n",
      "images75.jpg\n",
      "images76.jpg\n",
      "images77.jpg\n",
      "images82.jpg\n",
      "images87.jpg\n",
      "images9.jpg\n",
      "is-lionel-messi-the-only-reason-we-love-fc-barcelona.jpg\n",
      "j38kojo8_lionel-messi-afp_625x300_31_January_21.jpg\n",
      "Leo-Messi.jpg\n",
      "Lionel-Messi (1).jpg\n",
      "Lionel-Messi-1.jpg\n",
      "Lionel-Messi-4.jpg\n",
      "Lionel-Messi-Argentina-2022-FIFA-World-Cup_(cropped).jpg\n",
      "Lionel-Messi-Argentina-2022-FIFA-World-Cup_28cropped29.jpg\n",
      "lionel-messi-argentina-v-peru-fifa-world-cup-2022-qatar-qualifier-2021.jpg\n",
      "Lionel-Messi-Barcelona-Champions-League-final-752x428.jpg\n",
      "Lionel-Messi-celebrates.jpg\n",
      "lionel-messi-paris-saint-germain-792014455.jpg\n",
      "lionel-messi.jpeg\n",
      "lionel-messi.jpg\n",
      "lionel-messi_1.jpg\n",
      "lionel-messi_1gk8dc9bd2qgwz2plujcvv1ze.jpg\n",
      "Lionel_Messi_PSG-OGC_Nice_2022-10-01.jpeg\n",
      "maxresdefault.jpg\n",
      "maxresdefault2.jpg\n",
      "maxresdefault3.jpg\n",
      "mess-nl-great-3.jpg\n",
      "Messi-1040x572.jpg\n",
      "messi-2-scaled.jpg\n",
      "Messi-Barca-Home-AP.jpg\n",
      "messi-en-el-partido-ante-la-juventus.jpeg\n",
      "messi-mouth-16-9.jpg\n",
      "Messi-sad.jpg\n",
      "Messi.jpg\n",
      "NINTCHDBPICT000595036776.jpg\n",
      "np_file_195286.jpeg\n",
      "PA-65342253-2.jpg\n",
      "pjimage-2020-07-12t171830-1594554515.jpg\n",
      "pjimage-2020-08-31t150213-1598866338.jpg\n",
      "rBEevGDjMl6AQSVFAAFoMbx-5aA101.png\n",
      "sddefault.jpg\n",
      "skysports-lionel-messi-psg_5523917.jpg_1169307048.jpg\n",
      "thumbs_b_c_1fd9bb63a268898ab77cc5236d4f3cf4.jpg\n",
      "thumbs_b_c_4c1b63cfa7a910c1f3c93fa35140ce7d.jpg\n",
      "TOPSHOT-FBL-FRA-LIGUE1-PSG-LILLE-0_1677051045534_1677051045534_1677051056515_1677051056515.jpg\n",
      "Twitter-thread-detailing-all-of-Lionel-MessiE28099s-records-has-gone-viral.png\n",
      "03rihanna2.jpg\n",
      "0x0.jpg\n",
      "107048988-1650469123377-gettyimages-1384756904-_km29748_df17501f-8761-4dc1-8809-0dbc8a124be1_8c65169b-5700-.jpeg\n",
      "16641347052668.jpg\n",
      "190913-rihanna-e1643139460840.png\n",
      "2ec2ae0d7e8b4bc09c2ca4b2d286dbe7_320_320.jpg\n",
      "3000.jpeg\n",
      "389bbaa2fc554a0a3fb0b488ef17c794--rihanna-makeup-rihanna-fenty.jpg\n",
      "40f0ddad3dbba5fea74f5c0e0a2dfd4653e56cdf.jpeg\n",
      "412fea4e776cb73fd2a30bd07afdbc0b.jpg\n",
      "44aef174b729ac0e1ee1b0a0473f90df.jpg\n",
      "4561980.jpg\n",
      "493804_v9_bb.jpg\n",
      "5ea9da2042278d0ede031d78.png\n",
      "63e0191182f29.image.jpg\n",
      "694940094001_5992439006001_5992434664001-vs.jpg\n",
      "d2e63f3e-8f9f-4950-a44b-f8f204f384b9.png\n",
      "FJ514z_VgAERD1J.jpg\n",
      "GettyImages-1174331336.jpg\n",
      "GettyImages-1175283631.jpg\n",
      "gettyimages-1191681927.jpg\n",
      "GettyImages-1370077612-960x640.jpg\n",
      "GijOniCG-Rihanna-is-the-richest-woman-in-uk-music-1200x675.jpg\n",
      "h-after-giving-birth-in-a-graphic-tee-ripped-mini-skirt-thigh-hugh-boots-001.jpg\n",
      "hero-image.fill.size_1248x702.v1611615560.jpg\n",
      "how-rihanna-ruled-fashion-beauty-and-culture-in-2019.jpg\n",
      "image10.jpeg\n",
      "image17.jpeg\n",
      "image18.jpeg\n",
      "images105.jpg\n",
      "images108.jpg\n",
      "images24.jpg\n",
      "images3.jpg\n",
      "images33.jpg\n",
      "images35.jpg\n",
      "images38.jpg\n",
      "images44.jpg\n",
      "images57.jpg\n",
      "images59.jpg\n",
      "images6.jpg\n",
      "images62.jpg\n",
      "images66.jpg\n",
      "images68.jpg\n",
      "images76.jpg\n",
      "images79.jpg\n",
      "images80.jpg\n",
      "images82.jpg\n",
      "images87.jpg\n",
      "images93.jpg\n",
      "images95.jpg\n",
      "index (1).jpeg\n",
      "index.jpeg\n",
      "maxresdefault.jpg\n",
      "MK-RIHANNA-POST-BABY-CURVES-COMP.jpg\n",
      "newFile-6.jpg\n",
      "Rihanna (1).jpg\n",
      "Rihanna (2).jpg\n",
      "RIHANNA WAKANDA 261022 default-sq-GettyImages-1191561120.jpg\n",
      "rihanna-2016-live.jpg\n",
      "Rihanna-Album-Artwork-Reveal-October-2015-BellaNaija0005.jpg\n",
      "rihanna-ap-1200by667.jpeg\n",
      "rihanna-arrives-back-at-her-hotel-just-before-6am-having-performed-E353CE.jpg\n",
      "rihanna-british-vogue-cover-305574-1676481465638-image.700x0c.jpg\n",
      "rihanna-buys-beverly-hills-mansion-for-13-8-million-see-pictures1924493600218830795.jpg\n",
      "rihanna-ew-must-list-party-14.jpg\n",
      "rihanna-fenty-beauty-billboard-1548.jpg\n",
      "rihanna-fenty-feb-2020-b-billboard-1548-1586447103.jpg\n",
      "rihanna-gettyimages-1204749633.jpg\n",
      "rihanna-hairstyles-2016.jpg\n",
      "rihanna-hairstyles-pon-de-replay-slay.jpg\n",
      "rihanna-just-stand-up-01.jpg\n",
      "rihanna-koko-tv-ng.jpg..jpg\n",
      "rihanna-net-worth-rihanna-billionaire.jpg\n",
      "Rihanna-New-Song-Black-Panther-Wakanda-Forever-Culture-1436968301.jpg\n",
      "rihanna-oscar-nom.jpg\n",
      "rihanna-perfume.jpg\n",
      "Rihanna-Photo-J-Stone-Shutterstock.com-1280x800.jpg\n",
      "Rihanna-Reign-1200x900.jpg\n",
      "rihanna-savage-x-fenty-billboard-1260.jpg\n",
      "rihanna-sings-rehab-at-karaoke.jpg\n",
      "rihanna-songs.jpg\n",
      "rihanna-tiktok-house-fenty-beauty-home-r9.jpg\n",
      "rihanna-tiktok-lookalike-priscila-1597670348.jpg\n",
      "rihanna-valerian.jpg\n",
      "rihanna.jpg\n",
      "Rihanna.png\n",
      "rihanna1200-1.jpg\n",
      "rihanna2.jpg\n",
      "rihanna20pregnancy20curls20.jpg\n",
      "RIHANNA25202802222520GettyImages-1370076609a.jpg\n",
      "RIHANNA2520DOC2520UPDATE25201301232520default-land-GettyImages-1370076628.jpg\n",
      "RIHANNA2520MAKEUP25203003222520GettyImages-1375063381a.jpg\n",
      "RIHANNA2520WAKANDA25202610222520default-land-GettyImages-1191561120.jpg\n",
      "rihanna3.jpg\n",
      "rihanna4-1612351764-1612441893.jpg\n",
      "rihanna4.jpg\n",
      "rihanna5.jpg\n",
      "Rihanna_Fenty_2018.png\n",
      "ririvinaget-t.jpg\n",
      "screen-shot-2023-01-10-at-8-59-53-pm-1673402539.png\n",
      "Screenshot_2022-10-28_at_07.48.17.width-800.png\n",
      "sub-buzz-1093-1667852554-4.jpg\n",
      "sub-buzz-1980-1644853434-5.jpg\n",
      "VO0522_Cover_logo.jpg\n",
      "when-rihanna-went-completely-nde-with-just-a-paper-wrapped-around-her-npple-deets-inside-001.jpg\n",
      "_119788206_mediaitem119787435.jpg\n"
     ]
    }
   ],
   "source": [
    "for image_class in os.listdir(DataDir):\n",
    "    for image in os.listdir(os.path.join(DataDir,image_class)):\n",
    "        print(image)\n"
   ],
   "metadata": {
    "collapsed": false
   }
  },
  {
   "cell_type": "code",
   "execution_count": 4,
   "outputs": [
    {
     "name": "stdout",
     "output_type": "stream",
     "text": [
      "Total number of images: 353\n"
     ]
    }
   ],
   "source": [
    "total_images = 0  # initialize counter variable\n",
    "for image_class in os.listdir(DataDir):\n",
    "    for image in os.listdir(os.path.join(DataDir, image_class)):\n",
    "        total_images += 1  # increment counter for each file\n",
    "print(\"Total number of images:\", total_images)"
   ],
   "metadata": {
    "collapsed": false
   }
  },
  {
   "cell_type": "code",
   "execution_count": 5,
   "outputs": [
    {
     "name": "stdout",
     "output_type": "stream",
     "text": [
      "Total number of images found: 353\n",
      "Total number of images removed: 0\n"
     ]
    }
   ],
   "source": [
    "total_images = 0  # initialize counter variable\n",
    "removed_images = 0  # initialize counter variable for removed images\n",
    "for image_class in os.listdir(DataDir):\n",
    "    for image in os.listdir(os.path.join(DataDir, image_class)):\n",
    "        ImagePath = os.path.join(DataDir, image_class,image)\n",
    "        try:\n",
    "            DImage = cv2.imread(ImagePath)\n",
    "            ImaS = imghdr.what(ImagePath)\n",
    "            if ImaS not in ImageEx:\n",
    "                print('Image not in extension list {}'.format(ImagePath))\n",
    "                os.remove(ImagePath)\n",
    "                removed_images += 1  # increment counter for each removed file\n",
    "        except Exception as e:\n",
    "            print('Issue with image {}'.format(ImagePath))\n",
    "            # os.remove(ImagePath)  # Uncomment this if you want to remove the problematic images\n",
    "        total_images += 1  # increment counter for each file\n",
    "\n",
    "print(\"Total number of images found:\", total_images)\n",
    "print(\"Total number of images removed:\", removed_images)\n"
   ],
   "metadata": {
    "collapsed": false
   }
  },
  {
   "cell_type": "code",
   "execution_count": 6,
   "outputs": [],
   "source": [
    "# Define the transforms for the dataset\n",
    "transform_train = transforms.Compose([\n",
    "    transforms.Resize(256),\n",
    "    transforms.RandomCrop(224),\n",
    "    transforms.RandomHorizontalFlip(),\n",
    "    transforms.ToTensor(),\n",
    "    transforms.Normalize(mean=[0.485, 0.456, 0.406],\n",
    "                         std=[0.229, 0.224, 0.225])\n",
    "])\n",
    "\n",
    "transform_test = transforms.Compose([\n",
    "    transforms.Resize(256),\n",
    "    transforms.CenterCrop(224),\n",
    "    transforms.ToTensor(),\n",
    "    transforms.Normalize(mean=[0.485, 0.456, 0.406],\n",
    "                         std=[0.229, 0.224, 0.225])\n",
    "])\n"
   ],
   "metadata": {
    "collapsed": false
   }
  },
  {
   "cell_type": "code",
   "execution_count": 7,
   "outputs": [],
   "source": [
    "# Load the dataset\n",
    "dataset = datasets.ImageFolder('Image data', transform=transform_train)\n",
    "train_size = int(0.7 * len(dataset))\n",
    "val_size = int(0.15 * len(dataset))\n",
    "test_size = len(dataset) - train_size - val_size\n",
    "train_dataset, val_dataset, test_dataset = random_split(dataset, [train_size, val_size, test_size])"
   ],
   "metadata": {
    "collapsed": false
   }
  },
  {
   "cell_type": "code",
   "execution_count": 8,
   "outputs": [
    {
     "name": "stdout",
     "output_type": "stream",
     "text": [
      "246\n"
     ]
    }
   ],
   "source": [
    "print(train_size)"
   ],
   "metadata": {
    "collapsed": false
   }
  },
  {
   "cell_type": "code",
   "execution_count": 9,
   "outputs": [],
   "source": [
    "# Create the data loaders\n",
    "train_loader = DataLoader(train_dataset, batch_size=16, shuffle=True, num_workers=4)\n",
    "val_loader = DataLoader(val_dataset, batch_size=16, shuffle=False, num_workers=4)\n",
    "test_loader = DataLoader(test_dataset, batch_size=16, shuffle=False, num_workers=4)"
   ],
   "metadata": {
    "collapsed": false
   }
  },
  {
   "cell_type": "code",
   "execution_count": 10,
   "outputs": [
    {
     "name": "stdout",
     "output_type": "stream",
     "text": [
      "<torch.utils.data.dataloader.DataLoader object at 0x00000276A11419C0>\n"
     ]
    }
   ],
   "source": [
    "print(train_loader)"
   ],
   "metadata": {
    "collapsed": false
   }
  },
  {
   "cell_type": "code",
   "execution_count": 11,
   "outputs": [],
   "source": [
    "# Define the device (GPU or CPU)\n",
    "device = torch.device('cuda:0' if torch.cuda.is_available() else 'cpu')\n"
   ],
   "metadata": {
    "collapsed": false
   }
  },
  {
   "cell_type": "code",
   "execution_count": 12,
   "outputs": [],
   "source": [
    "import torch.nn as nn\n",
    "import torchvision.models as models\n",
    "\n",
    "class ImageClassificationModule(nn.Module):\n",
    "    def __init__(self):\n",
    "        super(ImageClassificationModule, self).__init__()\n",
    "        self.resnet = models.resnet18(pretrained=True)\n",
    "        num_ftrs = self.resnet.fc.in_features\n",
    "        self.resnet.fc = nn.Linear(num_ftrs, 10)\n",
    "\n",
    "    def forward(self, x):\n",
    "        x = self.resnet(x)\n",
    "        return x\n"
   ],
   "metadata": {
    "collapsed": false
   }
  },
  {
   "cell_type": "code",
   "execution_count": 13,
   "outputs": [
    {
     "name": "stderr",
     "output_type": "stream",
     "text": [
      "C:\\Users\\User\\AppData\\Local\\Programs\\Python\\Python310\\lib\\site-packages\\torchvision\\models\\_utils.py:208: UserWarning: The parameter 'pretrained' is deprecated since 0.13 and may be removed in the future, please use 'weights' instead.\n",
      "  warnings.warn(\n",
      "C:\\Users\\User\\AppData\\Local\\Programs\\Python\\Python310\\lib\\site-packages\\torchvision\\models\\_utils.py:223: UserWarning: Arguments other than a weight enum or `None` for 'weights' are deprecated since 0.13 and may be removed in the future. The current behavior is equivalent to passing `weights=ResNet18_Weights.IMAGENET1K_V1`. You can also use `weights=ResNet18_Weights.DEFAULT` to get the most up-to-date weights.\n",
      "  warnings.warn(msg)\n"
     ]
    },
    {
     "name": "stdout",
     "output_type": "stream",
     "text": [
      "----------------------------------------------------------------\n",
      "        Layer (type)               Output Shape         Param #\n",
      "================================================================\n",
      "            Conv2d-1         [-1, 64, 112, 112]           9,408\n",
      "       BatchNorm2d-2         [-1, 64, 112, 112]             128\n",
      "              ReLU-3         [-1, 64, 112, 112]               0\n",
      "         MaxPool2d-4           [-1, 64, 56, 56]               0\n",
      "            Conv2d-5           [-1, 64, 56, 56]          36,864\n",
      "       BatchNorm2d-6           [-1, 64, 56, 56]             128\n",
      "              ReLU-7           [-1, 64, 56, 56]               0\n",
      "            Conv2d-8           [-1, 64, 56, 56]          36,864\n",
      "       BatchNorm2d-9           [-1, 64, 56, 56]             128\n",
      "             ReLU-10           [-1, 64, 56, 56]               0\n",
      "       BasicBlock-11           [-1, 64, 56, 56]               0\n",
      "           Conv2d-12           [-1, 64, 56, 56]          36,864\n",
      "      BatchNorm2d-13           [-1, 64, 56, 56]             128\n",
      "             ReLU-14           [-1, 64, 56, 56]               0\n",
      "           Conv2d-15           [-1, 64, 56, 56]          36,864\n",
      "      BatchNorm2d-16           [-1, 64, 56, 56]             128\n",
      "             ReLU-17           [-1, 64, 56, 56]               0\n",
      "       BasicBlock-18           [-1, 64, 56, 56]               0\n",
      "           Conv2d-19          [-1, 128, 28, 28]          73,728\n",
      "      BatchNorm2d-20          [-1, 128, 28, 28]             256\n",
      "             ReLU-21          [-1, 128, 28, 28]               0\n",
      "           Conv2d-22          [-1, 128, 28, 28]         147,456\n",
      "      BatchNorm2d-23          [-1, 128, 28, 28]             256\n",
      "           Conv2d-24          [-1, 128, 28, 28]           8,192\n",
      "      BatchNorm2d-25          [-1, 128, 28, 28]             256\n",
      "             ReLU-26          [-1, 128, 28, 28]               0\n",
      "       BasicBlock-27          [-1, 128, 28, 28]               0\n",
      "           Conv2d-28          [-1, 128, 28, 28]         147,456\n",
      "      BatchNorm2d-29          [-1, 128, 28, 28]             256\n",
      "             ReLU-30          [-1, 128, 28, 28]               0\n",
      "           Conv2d-31          [-1, 128, 28, 28]         147,456\n",
      "      BatchNorm2d-32          [-1, 128, 28, 28]             256\n",
      "             ReLU-33          [-1, 128, 28, 28]               0\n",
      "       BasicBlock-34          [-1, 128, 28, 28]               0\n",
      "           Conv2d-35          [-1, 256, 14, 14]         294,912\n",
      "      BatchNorm2d-36          [-1, 256, 14, 14]             512\n",
      "             ReLU-37          [-1, 256, 14, 14]               0\n",
      "           Conv2d-38          [-1, 256, 14, 14]         589,824\n",
      "      BatchNorm2d-39          [-1, 256, 14, 14]             512\n",
      "           Conv2d-40          [-1, 256, 14, 14]          32,768\n",
      "      BatchNorm2d-41          [-1, 256, 14, 14]             512\n",
      "             ReLU-42          [-1, 256, 14, 14]               0\n",
      "       BasicBlock-43          [-1, 256, 14, 14]               0\n",
      "           Conv2d-44          [-1, 256, 14, 14]         589,824\n",
      "      BatchNorm2d-45          [-1, 256, 14, 14]             512\n",
      "             ReLU-46          [-1, 256, 14, 14]               0\n",
      "           Conv2d-47          [-1, 256, 14, 14]         589,824\n",
      "      BatchNorm2d-48          [-1, 256, 14, 14]             512\n",
      "             ReLU-49          [-1, 256, 14, 14]               0\n",
      "       BasicBlock-50          [-1, 256, 14, 14]               0\n",
      "           Conv2d-51            [-1, 512, 7, 7]       1,179,648\n",
      "      BatchNorm2d-52            [-1, 512, 7, 7]           1,024\n",
      "             ReLU-53            [-1, 512, 7, 7]               0\n",
      "           Conv2d-54            [-1, 512, 7, 7]       2,359,296\n",
      "      BatchNorm2d-55            [-1, 512, 7, 7]           1,024\n",
      "           Conv2d-56            [-1, 512, 7, 7]         131,072\n",
      "      BatchNorm2d-57            [-1, 512, 7, 7]           1,024\n",
      "             ReLU-58            [-1, 512, 7, 7]               0\n",
      "       BasicBlock-59            [-1, 512, 7, 7]               0\n",
      "           Conv2d-60            [-1, 512, 7, 7]       2,359,296\n",
      "      BatchNorm2d-61            [-1, 512, 7, 7]           1,024\n",
      "             ReLU-62            [-1, 512, 7, 7]               0\n",
      "           Conv2d-63            [-1, 512, 7, 7]       2,359,296\n",
      "      BatchNorm2d-64            [-1, 512, 7, 7]           1,024\n",
      "             ReLU-65            [-1, 512, 7, 7]               0\n",
      "       BasicBlock-66            [-1, 512, 7, 7]               0\n",
      "AdaptiveAvgPool2d-67            [-1, 512, 1, 1]               0\n",
      "           Linear-68                   [-1, 10]           5,130\n",
      "           ResNet-69                   [-1, 10]               0\n",
      "================================================================\n",
      "Total params: 11,181,642\n",
      "Trainable params: 11,181,642\n",
      "Non-trainable params: 0\n",
      "----------------------------------------------------------------\n",
      "Input size (MB): 0.57\n",
      "Forward/backward pass size (MB): 62.79\n",
      "Params size (MB): 42.65\n",
      "Estimated Total Size (MB): 106.01\n",
      "----------------------------------------------------------------\n"
     ]
    }
   ],
   "source": [
    "\n",
    "# Initialize the model and move it to the device\n",
    "from torchsummary import summary\n",
    "model = ImageClassificationModule().to(device)\n",
    "\n",
    "summary(model, input_size=(3, 224, 224))\n"
   ],
   "metadata": {
    "collapsed": false
   }
  },
  {
   "cell_type": "code",
   "execution_count": 14,
   "outputs": [],
   "source": [
    "\n",
    "# Define the loss function and optimizer\n",
    "criterion = nn.CrossEntropyLoss()\n",
    "optimizer = optim.SGD(model.parameters(), lr=0.001, momentum=0.9)"
   ],
   "metadata": {
    "collapsed": false
   }
  },
  {
   "cell_type": "code",
   "execution_count": 17,
   "outputs": [],
   "source": [
    "# Train the model\n",
    "for epoch in range(3):\n",
    "    train_loss = 0.0\n",
    "    train_correct = 0\n",
    "    val_loss = 0.0\n",
    "    val_correct = 0\n",
    "\n",
    "    # Training loop\n",
    "    model.train()\n",
    "    for inputs, labels in train_loader:\\\n",
    "        inputs, labels = inputs.to(device), labels.to(device)\n",
    "    optimizer.zero_grad()\n",
    "    outputs = model(inputs)\n",
    "\n",
    "\n",
    "    loss = criterion(outputs, labels)\n",
    "    loss.backward()\n",
    "    optimizer.step()\n",
    "\n",
    "    train_loss += loss.item()\n",
    "    _, predicted = torch.max(outputs.data, 1)\n",
    "    train_correct += (predicted == labels).sum().item()"
   ],
   "metadata": {
    "collapsed": false
   }
  },
  {
   "cell_type": "code",
   "execution_count": 18,
   "outputs": [],
   "source": [
    "\n",
    "    # Validation loop\n",
    "    model.eval()\n",
    "    with torch.no_grad():\n",
    "        for inputs, labels in val_loader:\n",
    "            inputs, labels = inputs.to(device), labels.to(device)\n",
    "            outputs = model(inputs)\n",
    "            loss = criterion(outputs, labels)\n",
    "            val_loss += loss.item()\n",
    "            _, predicted = torch.max(outputs.data, 1)\n",
    "            val_correct += (predicted == labels).sum().item()"
   ],
   "metadata": {
    "collapsed": false
   }
  },
  {
   "cell_type": "code",
   "execution_count": 19,
   "outputs": [],
   "source": [
    "\n",
    "# Print statistics\n",
    "train_loss /= len(train_loader.dataset)\n",
    "train_acc = train_correct / len(train_loader.dataset)\n",
    "val_loss /= len(val_loader.dataset)\n",
    "val_acc = val_correct / len(val_loader.dataset)"
   ],
   "metadata": {
    "collapsed": false
   }
  },
  {
   "cell_type": "code",
   "execution_count": 20,
   "outputs": [
    {
     "name": "stdout",
     "output_type": "stream",
     "text": [
      "Epoch 3, Train Loss: 0.0011, Train Acc: 0.0244, Val Loss: 0.0402, Val Acc:    0.8077\n"
     ]
    }
   ],
   "source": [
    "print(f'Epoch {epoch + 1}, Train Loss: {train_loss:.4f}, Train Acc: {train_acc:.4f}, Val Loss: {val_loss:.4f}, Val Acc:    {val_acc:.4f}')\n"
   ],
   "metadata": {
    "collapsed": false
   }
  },
  {
   "cell_type": "code",
   "execution_count": 21,
   "outputs": [
    {
     "name": "stdout",
     "output_type": "stream",
     "text": [
      "Test Loss: 0.024487, Test Accuracy: 85.19%\n"
     ]
    }
   ],
   "source": [
    "# Test the model on the test set\n",
    "test_loss = 0.0\n",
    "test_correct = 0\n",
    "model.eval()\n",
    "with torch.no_grad():\n",
    "    for inputs, labels in test_loader:\n",
    "        inputs, labels = inputs.to(device), labels.to(device)\n",
    "        outputs = model(inputs)\n",
    "        loss = criterion(outputs, labels)\n",
    "        test_loss += loss.item()\n",
    "        _, predicted = torch.max(outputs.data, 1)\n",
    "        test_correct += (predicted == labels).sum().item()\n",
    "\n",
    "    test_loss /= len(test_loader.dataset)\n",
    "    test_acc = test_correct / len(test_loader.dataset) * 100.0\n",
    "    print(f'Test Loss: {test_loss:.6f}, Test Accuracy: {test_acc:.2f}%')\n"
   ],
   "metadata": {
    "collapsed": false
   }
  },
  {
   "cell_type": "code",
   "execution_count": 22,
   "outputs": [],
   "source": [
    "# save the model\n",
    "torch.save(model.state_dict(), 'Models/pytorchmodel.pth')\n"
   ],
   "metadata": {
    "collapsed": false
   }
  }
 ],
 "metadata": {
  "kernelspec": {
   "display_name": "Python 3",
   "language": "python",
   "name": "python3"
  },
  "language_info": {
   "codemirror_mode": {
    "name": "ipython",
    "version": 2
   },
   "file_extension": ".py",
   "mimetype": "text/x-python",
   "name": "python",
   "nbconvert_exporter": "python",
   "pygments_lexer": "ipython2",
   "version": "2.7.6"
  }
 },
 "nbformat": 4,
 "nbformat_minor": 0
}
